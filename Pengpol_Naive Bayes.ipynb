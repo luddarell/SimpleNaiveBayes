{
 "cells": [
  {
   "cell_type": "code",
   "execution_count": 28,
   "metadata": {
    "collapsed": true
   },
   "outputs": [],
   "source": [
    "               #[\"LB/Org\", \"BBM\",      \"Lantai\",  \"Mkn Daging\", \"Kategori\"]\n",
    "dataTraining = [[9,  \"kayu bakar\",     \"ubin\",    3.0,   \"sedang\"], #1\n",
    "                [10, \"gas LPG\",        \"ubin\",    2.0,   \"sedang\"], #2\n",
    "                [15, \"gas LPG\",        \"plester\", 2.0,   \"sedang\"], #3\n",
    "                [30, \"gas LPG\",        \"ubin\",    4.0,   \"kaya\"],   #4\n",
    "                [16, \"kompor listrik\", \"ubin\",    3.0,   \"kaya\"],   #5\n",
    "                [25, \"gas LPG\",        \"ubin\",    5.0,   \"kaya\"],   #6\n",
    "                [9,  \"gas LPG\",        \"plester\", 0.5,   \"miskin\"], #7\n",
    "                [8,  \"kayu bakar\",     \"tanah\",   1.0,   \"miskin\"], #8\n",
    "                [10, \"kayu bakar\",     \"tanah\",   2.0,   \"miskin\"], #9\n",
    "                [14, \"gas LPG\",        \"tanah\",   1.0,   \"miskin\"], #10\n",
    "]"
   ]
  },
  {
   "cell_type": "code",
   "execution_count": 29,
   "metadata": {
    "collapsed": true
   },
   "outputs": [],
   "source": [
    "def probPrior(kategori): # probability P(kategori)\n",
    "    matched = 0\n",
    "    for i in range(0, len(dataTraining)):\n",
    "        if(kategori == dataTraining[i][4]):\n",
    "            matched += 1\n",
    "    return matched / len(dataTraining)"
   ]
  },
  {
   "cell_type": "code",
   "execution_count": 30,
   "metadata": {
    "collapsed": true
   },
   "outputs": [],
   "source": [
    "def probLikelihood(x, kategori): #probability likelihood P(x|kategori)\n",
    "    matchedX = 0\n",
    "    matchedKategori = 0\n",
    "    for i in range(0, len(dataTraining)):\n",
    "        if (kategori == dataTraining[i][4]):\n",
    "            matchedKategori += 1\n",
    "            for j in range(0, len(dataTraining[i])):\n",
    "                if (x == dataTraining[i][j]):\n",
    "                    matchedX += 1\n",
    "    return matchedX / matchedKategori"
   ]
  },
  {
   "cell_type": "code",
   "execution_count": 31,
   "metadata": {
    "collapsed": true
   },
   "outputs": [],
   "source": [
    "def mean(index, kategori):\n",
    "    matchedKategori = 0\n",
    "    total = 0\n",
    "    for i in range(0, len(dataTraining)):\n",
    "        if (kategori == dataTraining[i][4]):\n",
    "            matchedKategori += 1\n",
    "            total += dataTraining[i][index]\n",
    "    return total / matchedKategori\n",
    "\n",
    "def standarDeviasi2(index, mean, kategori): # sd^2 = SUM( ((x - mean)^2) ) / (matchedKategori - 1)\n",
    "    matchedKategori = 0\n",
    "    total = 0\n",
    "    for i in range(0, len(dataTraining)):\n",
    "        if (kategori == dataTraining[i][4]):\n",
    "            matchedKategori += 1\n",
    "            total += ((dataTraining[i][index] - mean) ** 2)\n",
    "    return total / (matchedKategori - 1)\n",
    "            \n",
    "def probLikelihoodKontinyu(x, index, kategori):\n",
    "    phi = 3.14\n",
    "    e = 2.72\n",
    "    rata2 = mean(index, kategori)\n",
    "    sd2 = standarDeviasi2(index, rata2, kategori)\n",
    "    result = 1 / ( (2 * phi * sd2) ** 0.5)\n",
    "    result *= (e ** ( 0 - ( ((x - rata2) ** 2) / (2 * sd2)  ) ))\n",
    "    return result"
   ]
  },
  {
   "cell_type": "code",
   "execution_count": 32,
   "metadata": {
    "collapsed": true
   },
   "outputs": [],
   "source": [
    "#param int luasBangunan, luas Bangunan / orang\n",
    "#param string bbm, jenis bahan bakar minyak\n",
    "#param string tipeLantai, tipe lantai yang digunakan\n",
    "#param double freqMakanDaging, frequensi makan daging \n",
    "#return string kategori, kategori class antara miskin, sedang, dan kaya\n",
    "def naiveBayes(luasBangunan, bbm, tipeLantai, freqMakanDaging):\n",
    "    kategori = [[\"miskin\", 0.0], [\"sedang\", 0.0], [\"kaya\", 0.0]]\n",
    "    # class miskin\n",
    "    kategori[0][1] = probLikelihoodKontinyu(luasBangunan, 0, \"miskin\") * probLikelihood(bbm, \"miskin\")\n",
    "    kategori[0][1] *= probLikelihood(tipeLantai, \"miskin\") * probLikelihoodKontinyu(freqMakanDaging, 3, \"miskin\")\n",
    "    kategori[0][1] *= probPrior(\"miskin\")\n",
    "    # class sedang \n",
    "    kategori[1][1] = probLikelihoodKontinyu(luasBangunan, 0, \"sedang\") * probLikelihood(bbm, \"sedang\")\n",
    "    kategori[1][1] *= probLikelihood(tipeLantai, \"sedang\") * probLikelihoodKontinyu(freqMakanDaging, 3, \"sedang\")\n",
    "    kategori[1][1] *= probPrior(\"sedang\")\n",
    "    # class kaya\n",
    "    kategori[2][1] = probLikelihoodKontinyu(luasBangunan, 0, \"kaya\") * probLikelihood(bbm, \"kaya\")\n",
    "    kategori[2][1] *= probLikelihood(tipeLantai, \"kaya\") * probLikelihoodKontinyu(freqMakanDaging, 3, \"kaya\")\n",
    "    kategori[2][1] *= probPrior(\"kaya\")\n",
    "    \n",
    "    hasilKategori = \"\"\n",
    "    \n",
    "    if ( kategori[0][1] > kategori[1][1] ):\n",
    "        if ( kategori[0][1] > kategori[2][1] ):\n",
    "            hasilKategori = kategori[0][0]\n",
    "        else:\n",
    "            hasilKategori = kategori[2][0]\n",
    "    else:\n",
    "        if ( kategori[1][1] > kategori[2][1] ):\n",
    "            hasilKategori = kategori[1][0]\n",
    "        else:\n",
    "            hasilKategori = kategori[2][0]\n",
    "            \n",
    "    print(kategori[0][1])\n",
    "    print(kategori[1][1])\n",
    "    print(kategori[2][1])\n",
    "    newRow = [luasBangunan, bbm, tipeLantai, freqMakanDaging, hasilKategori]\n",
    "    dataTraining.append(newRow)\n",
    "    return hasilKategori"
   ]
  },
  {
   "cell_type": "code",
   "execution_count": 34,
   "metadata": {},
   "outputs": [
    {
     "name": "stdout",
     "output_type": "stream",
     "text": [
      "0.0\n",
      "0.0\n",
      "0.0007587342732557745\n",
      "kaya\n"
     ]
    }
   ],
   "source": [
    "print(naiveBayes(16, \"kompor listrik\", \"ubin\", 3.0))\n"
   ]
  },
  {
   "cell_type": "code",
   "execution_count": null,
   "metadata": {},
   "outputs": [],
   "source": []
  },
  {
   "cell_type": "code",
   "execution_count": null,
   "metadata": {
    "collapsed": true
   },
   "outputs": [],
   "source": []
  }
 ],
 "metadata": {
  "kernelspec": {
   "display_name": "Python 3",
   "language": "python",
   "name": "python3"
  },
  "language_info": {
   "codemirror_mode": {
    "name": "ipython",
    "version": 3
   },
   "file_extension": ".py",
   "mimetype": "text/x-python",
   "name": "python",
   "nbconvert_exporter": "python",
   "pygments_lexer": "ipython3",
   "version": "3.6.8"
  }
 },
 "nbformat": 4,
 "nbformat_minor": 2
}
